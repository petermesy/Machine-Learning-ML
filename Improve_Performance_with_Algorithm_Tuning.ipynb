{
  "nbformat": 4,
  "nbformat_minor": 0,
  "metadata": {
    "colab": {
      "provenance": [],
      "authorship_tag": "ABX9TyPAt1IOXa5Aox+OiYocEUzN",
      "include_colab_link": true
    },
    "kernelspec": {
      "name": "python3",
      "display_name": "Python 3"
    },
    "language_info": {
      "name": "python"
    }
  },
  "cells": [
    {
      "cell_type": "markdown",
      "metadata": {
        "id": "view-in-github",
        "colab_type": "text"
      },
      "source": [
        "<a href=\"https://colab.research.google.com/github/petermesy/Machine-Learning-ML/blob/main/Improve_Performance_with_Algorithm_Tuning.ipynb\" target=\"_parent\"><img src=\"https://colab.research.google.com/assets/colab-badge.svg\" alt=\"Open In Colab\"/></a>"
      ]
    },
    {
      "cell_type": "code",
      "execution_count": null,
      "metadata": {
        "id": "QnJnO9YR-4gt"
      },
      "outputs": [],
      "source": []
    },
    {
      "cell_type": "markdown",
      "source": [
        "Improve Performance with Algorithm\n",
        " Tuning\n",
        "\n",
        "\n",
        "  Machine learning models are parameterized so that their behavior can be tuned for a given\n",
        " problem. Models can have many parameters and nding the best combination of parameters can\n",
        " be treated as a search problem.\n",
        "\n",
        "\n",
        " Grid search is a systematic way to explore the hyperparameter space of a machine learning model. Here's a bit more detail on how it works:\n",
        "\n",
        "Define the Parameter Grid: Specify a set of hyperparameters and their possible values. This forms a grid where each point represents a unique combination of parameters.\n",
        "Build Models: For each combination of parameters in the grid, a model is built and trained.\n",
        "Evaluate Models: Each model is evaluated using a performance metric, often through cross-validation, to ensure robust results.\n",
        "Select the Best Model: The combination of parameters that yields the best performance is selected as the optimal set."
      ],
      "metadata": {
        "id": "R7A-FqHb-65F"
      }
    },
    {
      "cell_type": "code",
      "source": [
        "import numpy as np\n",
        "import pandas as pd\n",
        "from sklearn.linear_model import Ridge\n",
        "from sklearn.model_selection import GridSearchCV\n",
        "filname='/content/indian.csv'\n",
        "names=['preg','plas','pres','skin','test','mass','pedi','age','class']\n",
        "dataframe=pd.read_csv(filname,names=names)\n",
        "dataframe=dataframe.apply(pd.to_numeric,errors='coerce')\n",
        "dataframe=dataframe.dropna()\n",
        "array=dataframe.values\n",
        "X=array[:,0:8]\n",
        "Y=array[:,8]"
      ],
      "metadata": {
        "id": "x67dfzoY_AFB"
      },
      "execution_count": 1,
      "outputs": []
    },
    {
      "cell_type": "code",
      "source": [
        "apphas=np.array([1,0.1,0.01,0.001,0.0001,0])\n",
        "param_gtrid=dict(alpha=apphas)\n",
        "model=Ridge()\n",
        "grid=GridSearchCV(estimator=model,param_grid=param_gtrid)\n",
        "grid.fit(X,Y)\n",
        "print(grid.best_score_)\n",
        "print(grid.best_estimator_.alpha)"
      ],
      "metadata": {
        "colab": {
          "base_uri": "https://localhost:8080/"
        },
        "id": "kFr1FQEp_mGw",
        "outputId": "53b26743-3e9a-4c0c-f400-b6497ebe0b19"
      },
      "execution_count": 2,
      "outputs": [
        {
          "output_type": "stream",
          "name": "stdout",
          "text": [
            "0.27610844129292433\n",
            "1.0\n"
          ]
        }
      ]
    },
    {
      "cell_type": "markdown",
      "source": [
        "Random search is another effective method for hyperparameter tuning. Unlike grid search, which exhaustively searches through a predefined grid of parameters, random search samples parameter combinations from a specified distribution. This can be more efficient, especially when dealing with a large number of hyperparameters.\n",
        "\n",
        "Here's a breakdown of how random search works:\n",
        "\n",
        "Define the Parameter Distribution: Specify the range and distribution from which to sample the hyperparameters.\n",
        "Sample Parameters: Randomly sample a fixed number of parameter combinations.\n",
        "Build and Evaluate Models: For each sampled combination, build and evaluate a model.\n",
        "Select the Best Model: Choose the combination that yields the best performance."
      ],
      "metadata": {
        "id": "sdTDR9opAdtG"
      }
    },
    {
      "cell_type": "code",
      "source": [
        "from sklearn.model_selection import RandomizedSearchCV\n",
        "from scipy.stats import uniform\n",
        "param_gtrid={'alpha':uniform()}\n",
        "model=Ridge()\n",
        "rsearch=RandomizedSearchCV(estimator=model,param_distributions=param_gtrid,n_iter=100,random_state=7)\n",
        "rsearch.fit(X,Y)\n",
        "print(rsearch.best_score_)\n",
        "print(rsearch.best_estimator_.alpha)"
      ],
      "metadata": {
        "colab": {
          "base_uri": "https://localhost:8080/"
        },
        "id": "c63gQNCLAJbO",
        "outputId": "7731fef3-2056-436a-e186-05579a98edba"
      },
      "execution_count": 3,
      "outputs": [
        {
          "output_type": "stream",
          "name": "stdout",
          "text": [
            "0.2761075573402853\n",
            "0.9779895119966027\n"
          ]
        }
      ]
    },
    {
      "cell_type": "code",
      "source": [],
      "metadata": {
        "id": "VN-6XsnBBIMh"
      },
      "execution_count": null,
      "outputs": []
    }
  ]
}