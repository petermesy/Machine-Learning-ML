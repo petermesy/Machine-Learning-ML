{
  "nbformat": 4,
  "nbformat_minor": 0,
  "metadata": {
    "colab": {
      "provenance": [],
      "authorship_tag": "ABX9TyNrO7woWB6QplJneQs5OHbX",
      "include_colab_link": true
    },
    "kernelspec": {
      "name": "python3",
      "display_name": "Python 3"
    },
    "language_info": {
      "name": "python"
    }
  },
  "cells": [
    {
      "cell_type": "markdown",
      "metadata": {
        "id": "view-in-github",
        "colab_type": "text"
      },
      "source": [
        "<a href=\"https://colab.research.google.com/github/petermesy/Machine-Learning-ML/blob/main/Save_and_Load_Machine_Learning_Models.ipynb\" target=\"_parent\"><img src=\"https://colab.research.google.com/assets/colab-badge.svg\" alt=\"Open In Colab\"/></a>"
      ]
    },
    {
      "cell_type": "code",
      "execution_count": null,
      "metadata": {
        "id": "HKeCxN-4Bcjh"
      },
      "outputs": [],
      "source": []
    },
    {
      "cell_type": "markdown",
      "source": [
        " Save and Load Machine Learning\n",
        " Models\n",
        "\n",
        " Using pickle to serialize and deserialize machine learning models is a great way to save and reuse your trained models. Here's a step-by-step example demonstrating how to train a logistic regression model, save it to a file, and load it to make predictions:"
      ],
      "metadata": {
        "id": "sILGNNWUBetX"
      }
    },
    {
      "cell_type": "code",
      "source": [
        "import pandas as pd\n",
        "from sklearn.linear_model import LogisticRegression\n",
        "from pickle import dump\n",
        "from pickle import load\n",
        "from sklearn.model_selection import train_test_split\n",
        "filname='/content/indian.csv'\n",
        "names=['preg','plas','pres','skin','test','mass','pedi','age','class']\n",
        "dataframe=pd.read_csv(filname,names=names)\n",
        "dataframe=dataframe.apply(pd.to_numeric,errors='coerce')\n",
        "dataframe=dataframe.dropna()\n",
        "array=dataframe.values\n",
        "X=array[:,0:8]\n",
        "Y=array[:,8]"
      ],
      "metadata": {
        "id": "ZiIfSzEIB1HF"
      },
      "execution_count": 2,
      "outputs": []
    },
    {
      "cell_type": "code",
      "source": [
        "X_train, X_test, Y_train, Y_test = train_test_split(X, Y, test_size=0.33, random_state=7)\n",
        "model=LogisticRegression()\n",
        "model.fit(X_train,Y_train)\n",
        "\n",
        "filname='finalized_model.sav'\n",
        "dump(model,open(filname,'wb'))\n",
        "\n",
        "loaded_model=load(open(filname,'rb'))\n",
        "result=loaded_model.score(X_test,Y_test)\n",
        "print(result)\n",
        "\n"
      ],
      "metadata": {
        "colab": {
          "base_uri": "https://localhost:8080/"
        },
        "id": "N3oOGMQ-FE2v",
        "outputId": "70aad8dd-ef20-47df-d478-ee4d295d843a"
      },
      "execution_count": 3,
      "outputs": [
        {
          "output_type": "stream",
          "name": "stdout",
          "text": [
            "0.7874015748031497\n"
          ]
        },
        {
          "output_type": "stream",
          "name": "stderr",
          "text": [
            "/usr/local/lib/python3.11/dist-packages/sklearn/linear_model/_logistic.py:465: ConvergenceWarning: lbfgs failed to converge (status=1):\n",
            "STOP: TOTAL NO. of ITERATIONS REACHED LIMIT.\n",
            "\n",
            "Increase the number of iterations (max_iter) or scale the data as shown in:\n",
            "    https://scikit-learn.org/stable/modules/preprocessing.html\n",
            "Please also refer to the documentation for alternative solver options:\n",
            "    https://scikit-learn.org/stable/modules/linear_model.html#logistic-regression\n",
            "  n_iter_i = _check_optimize_result(\n"
          ]
        }
      ]
    },
    {
      "cell_type": "markdown",
      "source": [
        "Joblib is indeed a powerful library for efficiently saving and loading Python objects, especially those that use NumPy arrays. It's particularly useful for machine learning models that require a lot of parameters or store large datasets.\n",
        "\n",
        "Here's how you can use Joblib to save and load a logistic regression model trained on the Pima Indians onset of diabetes dataset:\n",
        "\n",
        "Train the Model: Train a logistic regression model on the dataset.\n",
        "Save the Model: Use Joblib to serialize the trained model and save it to a file.\n",
        "Load the Model: Deserialize the model from the file and use it to make predictions on unseen data."
      ],
      "metadata": {
        "id": "Lc7KHy3VGB2m"
      }
    },
    {
      "cell_type": "code",
      "source": [
        "import joblib\n",
        "model=LogisticRegression()\n",
        "model.fit(X_train,Y_train)\n",
        "\n",
        "filename='finalized_model.sav'\n",
        "joblib.dump(model,filename)\n",
        "\n",
        "loaded_model=joblib.load(filename)\n",
        "result=loaded_model.score(X_test,Y_test)\n",
        "print(result)"
      ],
      "metadata": {
        "colab": {
          "base_uri": "https://localhost:8080/"
        },
        "id": "6TjkjrGmFxzb",
        "outputId": "a36e73d8-1bb2-4731-a9e3-4ee1cd723367"
      },
      "execution_count": 4,
      "outputs": [
        {
          "output_type": "stream",
          "name": "stdout",
          "text": [
            "0.7874015748031497\n"
          ]
        },
        {
          "output_type": "stream",
          "name": "stderr",
          "text": [
            "/usr/local/lib/python3.11/dist-packages/sklearn/linear_model/_logistic.py:465: ConvergenceWarning: lbfgs failed to converge (status=1):\n",
            "STOP: TOTAL NO. of ITERATIONS REACHED LIMIT.\n",
            "\n",
            "Increase the number of iterations (max_iter) or scale the data as shown in:\n",
            "    https://scikit-learn.org/stable/modules/preprocessing.html\n",
            "Please also refer to the documentation for alternative solver options:\n",
            "    https://scikit-learn.org/stable/modules/linear_model.html#logistic-regression\n",
            "  n_iter_i = _check_optimize_result(\n"
          ]
        }
      ]
    },
    {
      "cell_type": "code",
      "source": [],
      "metadata": {
        "id": "OGDOwK4zGfdm"
      },
      "execution_count": null,
      "outputs": []
    }
  ]
}